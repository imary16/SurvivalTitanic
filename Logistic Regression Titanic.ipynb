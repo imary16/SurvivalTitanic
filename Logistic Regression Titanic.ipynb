{
 "cells": [
  {
   "cell_type": "markdown",
   "metadata": {},
   "source": [
    "# Introduction // Introducción\n",
    "\n",
    "A study wants to establish a model that allows calculating the probability that a passenger on the Titanic survives its sinking, depending on the age, sex and class in which the passenger was traveling. The survival variable is coded as 0 if the passenger did not survive and 1 if she survived.\n",
    "\n",
    "The goal of this project is to scope, prep, analyze, and create a machine learning model to solve the question posed.\n",
    "\n",
    "//\n",
    "\n",
    "Un estudio quiere establecer un modelo que permita calcular la probabilidad de que un oasajero del Titanic sobreviva a su hundimiento, en función de la edad, el sexo y la clase en la que viajaba el pasajero. La variable de supervivencia está codificada como 0 si el pasajero no sobrevivió y 1 si sobrevivió.\n",
    "\n",
    "La meta de este proyecto es monitorear, preparar, analizar y crear un modelo de Machine Learning para resolver la pregunta planteada.\n",
    "\n",
    "\n",
    "### Data // Datos\n",
    "\n",
    "The project has one data set provided by Kaggle called `passengers.csv`. In the data, each row represents a Titanic passenger and the columns are the characteristics.\n",
    "\n",
    "//\n",
    "\n",
    "El proyecto tiene un conjunto de datos extraidos de Kaggle llamados `passengers.csv`. En los datos, cada fila representa un pasajero del Titanic y las columnas son sus características. \n",
    "\n",
    "### Analysis // Análisis\n",
    "\n",
    "We will use descriptive statistics and data visualization to find key figures in understanding the distribution, count, and relationship between variables. Since the goal of the project to make predictions on the user's variables, classification algorithms from the supervised learning family of machine learning models will be implemented. \n",
    "\n",
    "//\n",
    "\n",
    "Utilizaremos estadísticas descriptivas y visualización de datos para encontrar cifras clave para comprender la distribución, el recuento y la relación entre las variables. Dado que el objetivo del proyecto es realizar predicciones sobre las variables del usuario, se implementarán algoritmos de clasificación supervisados de Machine Learning.\n",
    "\n",
    "\n",
    "### Evaluation // Evaluación\n",
    "\n",
    "The project will conclude with the evaluation of the machine learning models selected with their respective validation data set. The output of the predictions will be checked through a confusion matrix, and metrics such as accuracy, precision, recall, F1 and Kappa scores. \n",
    "\n",
    "//\n",
    "\n",
    "El proyecto concluirá con la evaluación de los modelo de Machine Learning seleccionados con su respectivo conjunto de datos de validación. La salida de las predicciones se verificará a través de una matriz de confusión y métricas como exactitud, precisión, recuperación, puntuaciones F1 y Kappa.\n",
    "\n",
    "\n",
    "## Import Python Modules //  Importar Módulos de Python\n",
    "\n",
    "Principal modules being used for this project: // Módulos principales que se utilizan para este proyecto:"
   ]
  },
  {
   "cell_type": "code",
   "execution_count": 1,
   "metadata": {},
   "outputs": [],
   "source": [
    "import pandas as pd\n",
    "import numpy as np\n",
    "\n",
    "import matplotlib.pyplot as plt\n",
    "from matplotlib import style\n",
    "import seaborn as sns\n",
    "\n",
    "from sklearn.linear_model import LogisticRegression\n",
    "from sklearn.model_selection import train_test_split\n",
    "from sklearn.preprocessing import StandardScaler\n",
    "from sklearn.metrics import classification_report\n",
    "from sklearn.metrics import confusion_matrix \n",
    "from sklearn.model_selection import KFold\n",
    "from sklearn.model_selection import cross_val_score\n",
    "\n",
    "import warnings\n",
    "warnings.filterwarnings('ignore')"
   ]
  },
  {
   "cell_type": "markdown",
   "metadata": {},
   "source": [
    "## Loading the Data // Cargando los Datos\n",
    "\n",
    "To analyze the Titanic passenger, pandas will be used to load the dataset into a `DataFrame` so that it can be explored and visualized with Python. \n",
    "\n",
    "Here `passengers.csv` is loaded into a `DataFrame` called `passengers`. The `DataFrame` is then briefly examined to check the contents.\n",
    "\n",
    "//\n",
    "\n",
    "Para analizar el perfil de los pasajeros del Titanic, se cargaran el conjunto de datos es un `DataFrame` utilizando pandas para explorarlo y visualizarlo en Python.\n",
    "\n",
    "El archivo `passengers.csv` es cargado en un `DataFrame` llamado `passengers`. El `DataFrame` es exáminado brevemente para tener una idea de su contenido."
   ]
  },
  {
   "cell_type": "code",
   "execution_count": 2,
   "metadata": {},
   "outputs": [
    {
     "name": "stdout",
     "output_type": "stream",
     "text": [
      "   PassengerId  Survived  Pclass  \\\n",
      "0            1         0       3   \n",
      "1            2         1       1   \n",
      "2            3         1       3   \n",
      "3            4         1       1   \n",
      "4            5         0       3   \n",
      "\n",
      "                                                Name     Sex   Age  SibSp  \\\n",
      "0                            Braund, Mr. Owen Harris    male  22.0      1   \n",
      "1  Cumings, Mrs. John Bradley (Florence Briggs Th...  female  38.0      1   \n",
      "2                             Heikkinen, Miss. Laina  female  26.0      0   \n",
      "3       Futrelle, Mrs. Jacques Heath (Lily May Peel)  female  35.0      1   \n",
      "4                           Allen, Mr. William Henry    male  35.0      0   \n",
      "\n",
      "   Parch            Ticket     Fare Cabin Embarked  \n",
      "0      0         A/5 21171   7.2500   NaN        S  \n",
      "1      0          PC 17599  71.2833   C85        C  \n",
      "2      0  STON/O2. 3101282   7.9250   NaN        S  \n",
      "3      0            113803  53.1000  C123        S  \n",
      "4      0            373450   8.0500   NaN        S  \n",
      "891\n"
     ]
    }
   ],
   "source": [
    "passengers = pd.read_csv('passengers.csv')\n",
    "print(passengers.head()) \n",
    "print(passengers.Name.nunique())"
   ]
  },
  {
   "cell_type": "markdown",
   "metadata": {},
   "source": [
    "#### Data Characteristics // Características de los Datos\n",
    "\n",
    "`passengers` has 891 rows × 12 columns, this seems to be enough data for machine learning. // `passengers` tiene 891 filas y 12 columnas, lo cual parece ser suficiente para utilizar técnicas de Machine Learning.\n",
    "\n",
    "The columns in the dataset include: // Las columnas del conjunto de datos incluyen:\n",
    "\n",
    "- **PassengerId:** Passenger ID // Edad del usuario.\n",
    "- **Survived:**\tSurvival (0 = No, 1 = Yes) // Sobreviviente (0 = No, 1 = Sí).\n",
    "- **Pclass:** Ticket class (1 = 1st, 2 = 2nd, 3 = 3rd) // Boleto de Clase (1 = Primera, 2 = Segunda, 3 = Tercera).\n",
    "- **Name:** Passenger name // Nombre del pasajero.\n",
    "- **Sex:** Passenger sex // Género del pasajero.\n",
    "- **Age:** Passenger age in years // Edad del pasajero en años.\n",
    "- **Sibsp:** Number of siblings/spouses aboard the Titanic // Número de hermanos/esposos a bordo del Titanic.\n",
    "- **Parch:** Number of parents/children aboard the Titanic\t// Números de padres/hijos abordo del Titanic.\n",
    "- **Ticket:** Ticket number\t// Número de boleto.\n",
    "- **Fare:**\tPassenger fare // Tarifa del pasajero.\n",
    "- **Cabin:** Cabin number // Número de Habitación.\t\n",
    "- **Embarked:**\tPort of Embarkation\t(C = Cherbourg, Q = Queenstown, S = Southampton) // Puerta de Embarcación (C = Cherbourg, Q = Queenstown, S = Southampton)\n"
   ]
  },
  {
   "cell_type": "markdown",
   "metadata": {},
   "source": [
    "## Explore the Data // Exploración de los Datos\n",
    "\n",
    "First will be made a review of the data that will be used for the analyzes. // Se hará una revisión de los datos que se utilizarán para los análisis.\n",
    "\n",
    "#### Age // Edad"
   ]
  },
  {
   "cell_type": "code",
   "execution_count": 3,
   "metadata": {},
   "outputs": [
    {
     "data": {
      "image/png": "[encoded data removed]",
      "text/plain": [
       "<Figure size 360x360 with 1 Axes>"
      ]
     },
     "metadata": {
      "needs_background": "light"
     },
     "output_type": "display_data"
    }
   ],
   "source": [
    "sns.displot(data=passengers, x=\"Age\", kind=\"hist\", binwidth = 5);"
   ]
  },
  {
   "cell_type": "markdown",
   "metadata": {},
   "source": [
    "Most of the passengers on the Titanic were in their 20s and 30s. // La mayoría de los pasajeros del Titanic tenían entre 20 y 30 años\n",
    "\n",
    "#### Sex // Género"
   ]
  },
  {
   "cell_type": "code",
   "execution_count": 4,
   "metadata": {},
   "outputs": [
    {
     "name": "stdout",
     "output_type": "stream",
     "text": [
      "male      577\n",
      "female    314\n",
      "Name: Sex, dtype: int64\n"
     ]
    },
    {
     "data": {
      "image/png": "[encoded data removed]",
      "text/plain": [
       "<Figure size 432x288 with 1 Axes>"
      ]
     },
     "metadata": {
      "needs_background": "light"
     },
     "output_type": "display_data"
    }
   ],
   "source": [
    "print(passengers.Sex.value_counts())\n",
    "sns.countplot(data=passengers, y=\"Sex\");"
   ]
  },
  {
   "cell_type": "markdown",
   "metadata": {},
   "source": [
    "There are almost twice as many male passengers as female passengers. // Hay casi el doble de pasajeros hombre que de pasajeros mujeres.\n",
    "\n",
    "#### Class // Clases"
   ]
  },
  {
   "cell_type": "code",
   "execution_count": 5,
   "metadata": {},
   "outputs": [
    {
     "name": "stdout",
     "output_type": "stream",
     "text": [
      "3    491\n",
      "1    216\n",
      "2    184\n",
      "Name: Pclass, dtype: int64\n"
     ]
    },
    {
     "data": {
      "image/png": "[encoded data removed]",
      "text/plain": [
       "<Figure size 432x288 with 1 Axes>"
      ]
     },
     "metadata": {
      "needs_background": "light"
     },
     "output_type": "display_data"
    }
   ],
   "source": [
    "print(passengers.Pclass.value_counts())\n",
    "sns.countplot(data=passengers, y=\"Pclass\");"
   ]
  },
  {
   "cell_type": "markdown",
   "metadata": {},
   "source": [
    "Most of the passengers traveled in third class. // La mayoría de los pasajeros viajaban en tercera clase.\n",
    "\n",
    "#### Survived // Sobreviviente"
   ]
  },
  {
   "cell_type": "code",
   "execution_count": 6,
   "metadata": {},
   "outputs": [
    {
     "name": "stdout",
     "output_type": "stream",
     "text": [
      "0    549\n",
      "1    342\n",
      "Name: Survived, dtype: int64\n"
     ]
    },
    {
     "data": {
      "image/png": "[encoded data removed]",
      "text/plain": [
       "<Figure size 432x288 with 1 Axes>"
      ]
     },
     "metadata": {
      "needs_background": "light"
     },
     "output_type": "display_data"
    }
   ],
   "source": [
    "print(passengers.Survived.value_counts())\n",
    "sns.countplot(data=passengers, y=\"Survived\");"
   ]
  },
  {
   "cell_type": "markdown",
   "metadata": {},
   "source": [
    "Most passengers did not survive the sinking of the Titanic. // La mayoría de pasajeros no sobrevivió al hundimiento del Titanic.\n",
    "\n",
    "#### Preprocessing // Preprocesamiento\n",
    "\n",
    "Preparing the data for modeling is important since it can speed up the process and produce better models. We want to make sure the data we are inputing into our modelling step is good enough to share them.\n",
    "\n",
    "//\n",
    "\n",
    "Preparar los datos para el modelado es importante para hacer el más rápido el procesamiento y producir mejores modelo. Queremos asegurarnos de que los datos que ingresamos en nuestro paso de modelado sean lo suficientemente buenos para compartirlos."
   ]
  },
  {
   "cell_type": "code",
   "execution_count": 7,
   "metadata": {},
   "outputs": [
    {
     "data": {
      "text/html": [
       "<div>\n",
       "<style scoped>\n",
       "    .dataframe tbody tr th:only-of-type {\n",
       "        vertical-align: middle;\n",
       "    }\n",
       "\n",
       "    .dataframe tbody tr th {\n",
       "        vertical-align: top;\n",
       "    }\n",
       "\n",
       "    .dataframe thead th {\n",
       "        text-align: right;\n",
       "    }\n",
       "</style>\n",
       "<table border=\"1\" class=\"dataframe\">\n",
       "  <thead>\n",
       "    <tr style=\"text-align: right;\">\n",
       "      <th></th>\n",
       "      <th>Survived</th>\n",
       "      <th>Age</th>\n",
       "      <th>Sex_female</th>\n",
       "      <th>Sex_male</th>\n",
       "      <th>Pclass_1</th>\n",
       "      <th>Pclass_2</th>\n",
       "      <th>Pclass_3</th>\n",
       "    </tr>\n",
       "  </thead>\n",
       "  <tbody>\n",
       "    <tr>\n",
       "      <th>0</th>\n",
       "      <td>0</td>\n",
       "      <td>22.0</td>\n",
       "      <td>0</td>\n",
       "      <td>1</td>\n",
       "      <td>0</td>\n",
       "      <td>0</td>\n",
       "      <td>1</td>\n",
       "    </tr>\n",
       "    <tr>\n",
       "      <th>1</th>\n",
       "      <td>1</td>\n",
       "      <td>38.0</td>\n",
       "      <td>1</td>\n",
       "      <td>0</td>\n",
       "      <td>1</td>\n",
       "      <td>0</td>\n",
       "      <td>0</td>\n",
       "    </tr>\n",
       "    <tr>\n",
       "      <th>2</th>\n",
       "      <td>1</td>\n",
       "      <td>26.0</td>\n",
       "      <td>1</td>\n",
       "      <td>0</td>\n",
       "      <td>0</td>\n",
       "      <td>0</td>\n",
       "      <td>1</td>\n",
       "    </tr>\n",
       "    <tr>\n",
       "      <th>3</th>\n",
       "      <td>1</td>\n",
       "      <td>35.0</td>\n",
       "      <td>1</td>\n",
       "      <td>0</td>\n",
       "      <td>1</td>\n",
       "      <td>0</td>\n",
       "      <td>0</td>\n",
       "    </tr>\n",
       "    <tr>\n",
       "      <th>4</th>\n",
       "      <td>0</td>\n",
       "      <td>35.0</td>\n",
       "      <td>0</td>\n",
       "      <td>1</td>\n",
       "      <td>0</td>\n",
       "      <td>0</td>\n",
       "      <td>1</td>\n",
       "    </tr>\n",
       "    <tr>\n",
       "      <th>...</th>\n",
       "      <td>...</td>\n",
       "      <td>...</td>\n",
       "      <td>...</td>\n",
       "      <td>...</td>\n",
       "      <td>...</td>\n",
       "      <td>...</td>\n",
       "      <td>...</td>\n",
       "    </tr>\n",
       "    <tr>\n",
       "      <th>885</th>\n",
       "      <td>0</td>\n",
       "      <td>39.0</td>\n",
       "      <td>1</td>\n",
       "      <td>0</td>\n",
       "      <td>0</td>\n",
       "      <td>0</td>\n",
       "      <td>1</td>\n",
       "    </tr>\n",
       "    <tr>\n",
       "      <th>886</th>\n",
       "      <td>0</td>\n",
       "      <td>27.0</td>\n",
       "      <td>0</td>\n",
       "      <td>1</td>\n",
       "      <td>0</td>\n",
       "      <td>1</td>\n",
       "      <td>0</td>\n",
       "    </tr>\n",
       "    <tr>\n",
       "      <th>887</th>\n",
       "      <td>1</td>\n",
       "      <td>19.0</td>\n",
       "      <td>1</td>\n",
       "      <td>0</td>\n",
       "      <td>1</td>\n",
       "      <td>0</td>\n",
       "      <td>0</td>\n",
       "    </tr>\n",
       "    <tr>\n",
       "      <th>889</th>\n",
       "      <td>1</td>\n",
       "      <td>26.0</td>\n",
       "      <td>0</td>\n",
       "      <td>1</td>\n",
       "      <td>1</td>\n",
       "      <td>0</td>\n",
       "      <td>0</td>\n",
       "    </tr>\n",
       "    <tr>\n",
       "      <th>890</th>\n",
       "      <td>0</td>\n",
       "      <td>32.0</td>\n",
       "      <td>0</td>\n",
       "      <td>1</td>\n",
       "      <td>0</td>\n",
       "      <td>0</td>\n",
       "      <td>1</td>\n",
       "    </tr>\n",
       "  </tbody>\n",
       "</table>\n",
       "<p>714 rows × 7 columns</p>\n",
       "</div>"
      ],
      "text/plain": [
       "     Survived   Age  Sex_female  Sex_male  Pclass_1  Pclass_2  Pclass_3\n",
       "0           0  22.0           0         1         0         0         1\n",
       "1           1  38.0           1         0         1         0         0\n",
       "2           1  26.0           1         0         0         0         1\n",
       "3           1  35.0           1         0         1         0         0\n",
       "4           0  35.0           0         1         0         0         1\n",
       "..        ...   ...         ...       ...       ...       ...       ...\n",
       "885         0  39.0           1         0         0         0         1\n",
       "886         0  27.0           0         1         0         1         0\n",
       "887         1  19.0           1         0         1         0         0\n",
       "889         1  26.0           0         1         1         0         0\n",
       "890         0  32.0           0         1         0         0         1\n",
       "\n",
       "[714 rows x 7 columns]"
      ]
     },
     "execution_count": 7,
     "metadata": {},
     "output_type": "execute_result"
    }
   ],
   "source": [
    "cols1 = ['Sex', 'Pclass', 'Survived', 'Age']\n",
    "df = passengers[cols1].dropna()\n",
    "for col in cols1[:-2]:\n",
    "    df = pd.get_dummies(df, columns=[col], prefix = [col])\n",
    "df"
   ]
  },
  {
   "cell_type": "code",
   "execution_count": 8,
   "metadata": {},
   "outputs": [],
   "source": [
    "col_length = len(df.columns)\n",
    "\n",
    "X = df.iloc[:, 1:col_length]\n",
    "y = df.iloc[:, 0:1]"
   ]
  },
  {
   "cell_type": "code",
   "execution_count": 9,
   "metadata": {},
   "outputs": [],
   "source": [
    "X_train, X_test, y_train, y_test = train_test_split(X, y, test_size = 0.3)"
   ]
  },
  {
   "cell_type": "code",
   "execution_count": 10,
   "metadata": {},
   "outputs": [
    {
     "data": {
      "text/plain": [
       "array([[-0.43082323,  1.31975689, -1.31975689, -0.56269236, -0.57812161,\n",
       "         0.98212368],\n",
       "       [ 0.71388432,  1.31975689, -1.31975689, -0.56269236,  1.72973986,\n",
       "        -1.0182017 ],\n",
       "       [-0.36348749, -0.75771531,  0.75771531, -0.56269236,  1.72973986,\n",
       "        -1.0182017 ],\n",
       "       ...,\n",
       "       [ 0.24253415,  1.31975689, -1.31975689,  1.77717004, -0.57812161,\n",
       "        -1.0182017 ],\n",
       "       [-1.71020224,  1.31975689, -1.31975689, -0.56269236, -0.57812161,\n",
       "         0.98212368],\n",
       "       [ 1.52191317, -0.75771531,  0.75771531, -0.56269236,  1.72973986,\n",
       "        -1.0182017 ]])"
      ]
     },
     "execution_count": 10,
     "metadata": {},
     "output_type": "execute_result"
    }
   ],
   "source": [
    "scaler = StandardScaler()\n",
    "scaler.fit_transform(X_train, y_train)\n",
    "scaler.transform(X_test)"
   ]
  },
  {
   "cell_type": "markdown",
   "metadata": {},
   "source": [
    "### Prediction // Predicción\n",
    "\n",
    "#### Model Building // Construcción del Modelo\n",
    "\n",
    "In this project Logistic Regression algorithm will be used to make predictions. // Para este proyecto el algorítmo de Regresión Logística será usado."
   ]
  },
  {
   "cell_type": "code",
   "execution_count": 11,
   "metadata": {},
   "outputs": [],
   "source": [
    "model = LogisticRegression()\n",
    "lr_model = model.fit(X_train, y_train)\n",
    "lrpredictions = lr_model.predict(X_train) "
   ]
  },
  {
   "cell_type": "code",
   "execution_count": 12,
   "metadata": {},
   "outputs": [
    {
     "name": "stdout",
     "output_type": "stream",
     "text": [
      "              precision    recall  f1-score   support\n",
      "\n",
      "           0       0.82      0.85      0.83       298\n",
      "           1       0.76      0.72      0.74       201\n",
      "\n",
      "    accuracy                           0.80       499\n",
      "   macro avg       0.79      0.79      0.79       499\n",
      "weighted avg       0.80      0.80      0.80       499\n",
      "\n"
     ]
    }
   ],
   "source": [
    "print(classification_report(y_train, lrpredictions)) "
   ]
  },
  {
   "cell_type": "markdown",
   "metadata": {},
   "source": [
    "So it seems that the `Logistic Regression Model` is a good model to predict the survival of a titanic passenger. Its accuracy is 80%. // Parece que el `Modelo de Regresión Logística` puede ser un buen modelo para predecir la sobrevivencia de un pasajero del Titanic. Su precisión es de 80%."
   ]
  },
  {
   "cell_type": "code",
   "execution_count": 13,
   "metadata": {},
   "outputs": [
    {
     "name": "stdout",
     "output_type": "stream",
     "text": [
      "              precision    recall  f1-score   support\n",
      "\n",
      "           0       0.80      0.82      0.81       126\n",
      "           1       0.73      0.71      0.72        89\n",
      "\n",
      "    accuracy                           0.77       215\n",
      "   macro avg       0.77      0.76      0.76       215\n",
      "weighted avg       0.77      0.77      0.77       215\n",
      "\n"
     ]
    }
   ],
   "source": [
    "predictions = model.predict(X_test)\n",
    "print(classification_report(y_test, predictions))"
   ]
  },
  {
   "cell_type": "code",
   "execution_count": 14,
   "metadata": {},
   "outputs": [
    {
     "name": "stdout",
     "output_type": "stream",
     "text": [
      "[0.84       0.81       0.82       0.78       0.72727273]\n",
      "Baseline: 79.55% (3.92%)\n"
     ]
    }
   ],
   "source": [
    "kfold = KFold(n_splits=5, shuffle=True, random_state=0)\n",
    "results = cross_val_score(lr_model, X_train, y_train, cv=kfold, scoring='accuracy')\n",
    "\n",
    "print(results)\n",
    "print(\"Baseline: %.2f%% (%.2f%%)\" % (results.mean()*100, results.std()*100))"
   ]
  },
  {
   "cell_type": "markdown",
   "metadata": {},
   "source": [
    "By using cross validation, we get ~80% accuracy which is very good. // Usando la validación cruzada, tenemos aproximadamente un 80% de precision lo cual es muy bueno."
   ]
  },
  {
   "cell_type": "code",
   "execution_count": 15,
   "metadata": {},
   "outputs": [
    {
     "data": {
      "image/png": "[encoded data removed]",
      "text/plain": [
       "<Figure size 720x504 with 2 Axes>"
      ]
     },
     "metadata": {
      "needs_background": "light"
     },
     "output_type": "display_data"
    }
   ],
   "source": [
    "cm = confusion_matrix(y_test, predictions)\n",
    "lr_labels = lr_model.classes_\n",
    "\n",
    "plt.figure(figsize=(10,7))\n",
    "\n",
    "ax= plt.subplot()\n",
    "sns.heatmap(cm, annot=True, ax = ax, fmt=\"d\");\n",
    "\n",
    "ax.set_xlabel('Predicted labels // Etiquetas predichas');\n",
    "ax.set_ylabel('True labels // Verdaderas etiquetas'); \n",
    "ax.set_title('Confusion Matrix // Matriz de Confusión');\n",
    "ax.yaxis.set_tick_params(rotation=360)\n",
    "ax.xaxis.set_tick_params(rotation=90)\n",
    "\n",
    "ax.xaxis.set_ticklabels(lr_labels); \n",
    "ax.yaxis.set_ticklabels(lr_labels);"
   ]
  },
  {
   "cell_type": "markdown",
   "metadata": {},
   "source": [
    "We can clearly see from the confusion matrix that in most cases the predicted labels are the ones that correspond to the real labels. Finally, the model parameters are below.\n",
    "\n",
    "// \n",
    "\n",
    "Podemos observar claramente en la matriz de confusión que en la mayoría de los casos las etiquetas predichas son las que corresponden con las etiquetas reales. Finalmente, los parámetros del modelo se encuentran abajo."
   ]
  },
  {
   "cell_type": "code",
   "execution_count": 17,
   "metadata": {},
   "outputs": [
    {
     "name": "stdout",
     "output_type": "stream",
     "text": [
      "Intercept: // Intercepto: [1.11447576]\n",
      "Coeficientes: [('Age', -0.03305005311971909), ('Sex_female', 1.2440697172801105), ('Sex_male', -1.2440537556210698), ('Pclass_1', 1.2553756547239485), ('Pclass_2', 0.021227731984122377), ('Pclass_3', -1.276587425048986)]\n",
      "Accuracy: 0.7899159663865546\n"
     ]
    }
   ],
   "source": [
    "print(\"Intercept: // Intercepto:\", lr_model.intercept_)\n",
    "print(\"Coeficientes:\", list(zip(X.columns, lr_model.coef_.flatten(), )))\n",
    "print(\"Accuracy:\", model.score(X, y))"
   ]
  },
  {
   "cell_type": "markdown",
   "metadata": {},
   "source": [
    "### Conclusion // Conclusión\n",
    "\n",
    "\n",
    "#### General Comments // Comentarios Generales\n",
    "\n",
    "In this project, Machine Learning was used to predict the survival of a passenger on the Titanic, based on their sex, age and the class in which they were traveling.\n",
    "\n",
    "Using a logistic regression algorithm, a model was found that can predict with 79% accuracy whether or not the passenger survived the sinking of the Titanic.\n",
    "\n",
    "//\n",
    "\n",
    "En este proyecto, el Machine Learning se utilizó para predecir la supervivencia de un pasajero del Titanic, basándose en su sexo, edad y la clase en la que viajaba.\n",
    "\n",
    "Utilizando un algorítmo de regresión logística, se encontró un modelo  que puede predecir con 79% de precisión si el pasajero sobrevivió o no al hundimiento del Titanic.\n",
    "\n",
    "#### Next Steps // Próximos Pasos\n",
    "\n",
    "Next step will be to consider to add additional models or tune the hyper parameters of the used model to see if any more predictive power could be squeezed out of the algorithm. \n",
    "\n",
    "//\n",
    "\n",
    "El siguiente pasos será considerar agregar modelos adicionales o ajustar los hiperparámetros del modelo usados para ver si se podría extraer más poder predictivo del algorítmo."
   ]
  },
  {
   "cell_type": "code",
   "execution_count": null,
   "metadata": {},
   "outputs": [],
   "source": []
  }
 ],
 "metadata": {
  "kernelspec": {
   "display_name": "Python 3",
   "language": "python",
   "name": "python3"
  },
  "language_info": {
   "codemirror_mode": {
    "name": "ipython",
    "version": 3
   },
   "file_extension": ".py",
   "mimetype": "text/x-python",
   "name": "python",
   "nbconvert_exporter": "python",
   "pygments_lexer": "ipython3",
   "version": "3.7.6"
  }
 },
 "nbformat": 4,
 "nbformat_minor": 4
}
